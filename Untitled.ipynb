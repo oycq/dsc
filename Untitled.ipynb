{
 "cells": [
  {
   "cell_type": "code",
   "execution_count": 5,
   "metadata": {},
   "outputs": [
    {
     "name": "stderr",
     "output_type": "stream",
     "text": [
      "100%|██████████| 10075127/10075127 [00:50<00:00, 201433.94it/s]\n"
     ]
    }
   ],
   "source": [
    "import torch\n",
    "from torch.utils.data import Dataset\n",
    "import numpy as np\n",
    "import sys\n",
    "import datetime\n",
    "import tqdm\n",
    "import matplotlib.pyplot as plt\n",
    "\n",
    "DATE_LEN = 810 #684\n",
    "date_0 = datetime.date(2017, 2, 1)\n",
    "train_data = open('./train_step1.csv').readlines()[1:]\n",
    "train_data_len = len(train_data)\n",
    "\n",
    "identity_list = []\n",
    "last_identity = 0\n",
    "data = np.zeros((18416, DATE_LEN))\n",
    "\n",
    "\n",
    "for i in tqdm.tqdm(range(train_data_len), total=train_data_len):\n",
    "#for i in range(train_data_len):\n",
    "    identity, date_str, value = train_data[i][:-1].split(',')\n",
    "    day, monty, year = date_str[-2:], date_str[5:7], date_str[:4]\n",
    "    date = datetime.date(int(year), int(monty), int(day))\n",
    "    date_delta = (date - date_0).days\n",
    "    identity = int(identity)\n",
    "    if identity != last_identity:\n",
    "        last_identity = identity\n",
    "        identity_list.append(identity)\n",
    "    identity = len(identity_list) - 1\n",
    "    value = float(value)\n",
    "    data[identity, date_delta] = value\n",
    "data = torch.from_numpy(data)"
   ]
  },
  {
   "cell_type": "code",
   "execution_count": 6,
   "metadata": {},
   "outputs": [
    {
     "name": "stderr",
     "output_type": "stream",
     "text": [
      "100%|██████████| 1675857/1675857 [00:35<00:00, 47276.74it/s]\n"
     ]
    }
   ],
   "source": [
    "b = data[:,682:685].mean(-1)\n",
    "#b = data[:,684]\n",
    "\n",
    "input_txt = open('./test_step1.csv')\n",
    "input_lines = input_txt.readlines()[:]\n",
    "output_txt = open('./result_step1.txt','w+')\n",
    "\n",
    "last_identity = 0\n",
    "last_ids = -99\n",
    "for i, line in tqdm.tqdm(enumerate(input_lines), total=len(input_lines)):\n",
    "    if line[:2]=='id':\n",
    "        output_txt.write(line)\n",
    "        continue\n",
    "    line = line[:-1]\n",
    "    identity, date_str = line.split(',')\n",
    "    identity = int(identity)\n",
    "    if identity == last_identity:\n",
    "        ids = last_ids\n",
    "    else:\n",
    "        last_identity = identity\n",
    "        last_ids = identity_list.index(identity)\n",
    "        ids = last_ids\n",
    "    value = b[ids]\n",
    "    output_line = line.split('\\n')[0] + ',%f\\n'%value\n",
    "    output_txt.write(output_line)\n",
    "output_txt.close()\n",
    "input_txt.close()\n",
    "#c = data[:,670:685].mean()\n",
    "#for i in range(10000):\n",
    "#    plt.figure(figsize=(30, 16))\n",
    "#    plt.scatter(range(DATE_LEN),data[i])\n",
    "#    plt.show()"
   ]
  }
 ],
 "metadata": {
  "kernelspec": {
   "display_name": "Python 3",
   "language": "python",
   "name": "python3"
  },
  "language_info": {
   "codemirror_mode": {
    "name": "ipython",
    "version": 3
   },
   "file_extension": ".py",
   "mimetype": "text/x-python",
   "name": "python",
   "nbconvert_exporter": "python",
   "pygments_lexer": "ipython3",
   "version": "3.6.9"
  }
 },
 "nbformat": 4,
 "nbformat_minor": 2
}
